{
  "nbformat": 4,
  "nbformat_minor": 0,
  "metadata": {
    "colab": {
      "provenance": []
    },
    "kernelspec": {
      "name": "python3",
      "display_name": "Python 3"
    },
    "language_info": {
      "name": "python"
    },
    "accelerator": "GPU",
    "widgets": {
      "application/vnd.jupyter.widget-state+json": {
        "7297067d49ee4db0b4024fe7d42f406a": {
          "model_module": "@jupyter-widgets/controls",
          "model_name": "HBoxModel",
          "model_module_version": "1.5.0",
          "state": {
            "_dom_classes": [],
            "_model_module": "@jupyter-widgets/controls",
            "_model_module_version": "1.5.0",
            "_model_name": "HBoxModel",
            "_view_count": null,
            "_view_module": "@jupyter-widgets/controls",
            "_view_module_version": "1.5.0",
            "_view_name": "HBoxView",
            "box_style": "",
            "children": [
              "IPY_MODEL_529d43c9a6c6434e8f2c13df11887b18",
              "IPY_MODEL_08ba29b84d0b4272be61e9f914e3c40c",
              "IPY_MODEL_330029c0a3f647c1bab06027e880bd46"
            ],
            "layout": "IPY_MODEL_c4fc05f032cc4d8caeaa26c606c890b0"
          }
        },
        "529d43c9a6c6434e8f2c13df11887b18": {
          "model_module": "@jupyter-widgets/controls",
          "model_name": "HTMLModel",
          "model_module_version": "1.5.0",
          "state": {
            "_dom_classes": [],
            "_model_module": "@jupyter-widgets/controls",
            "_model_module_version": "1.5.0",
            "_model_name": "HTMLModel",
            "_view_count": null,
            "_view_module": "@jupyter-widgets/controls",
            "_view_module_version": "1.5.0",
            "_view_name": "HTMLView",
            "description": "",
            "description_tooltip": null,
            "layout": "IPY_MODEL_6509cfff79544a44b6afb527105280c3",
            "placeholder": "​",
            "style": "IPY_MODEL_9d633d26f0804b8183a4a8307bb9da1c",
            "value": "Downloading data files: 100%"
          }
        },
        "08ba29b84d0b4272be61e9f914e3c40c": {
          "model_module": "@jupyter-widgets/controls",
          "model_name": "FloatProgressModel",
          "model_module_version": "1.5.0",
          "state": {
            "_dom_classes": [],
            "_model_module": "@jupyter-widgets/controls",
            "_model_module_version": "1.5.0",
            "_model_name": "FloatProgressModel",
            "_view_count": null,
            "_view_module": "@jupyter-widgets/controls",
            "_view_module_version": "1.5.0",
            "_view_name": "ProgressView",
            "bar_style": "success",
            "description": "",
            "description_tooltip": null,
            "layout": "IPY_MODEL_00fe33c5b604456da7605718745f3a91",
            "max": 1,
            "min": 0,
            "orientation": "horizontal",
            "style": "IPY_MODEL_e5d9b00b312449acad7e9bcde722b148",
            "value": 1
          }
        },
        "330029c0a3f647c1bab06027e880bd46": {
          "model_module": "@jupyter-widgets/controls",
          "model_name": "HTMLModel",
          "model_module_version": "1.5.0",
          "state": {
            "_dom_classes": [],
            "_model_module": "@jupyter-widgets/controls",
            "_model_module_version": "1.5.0",
            "_model_name": "HTMLModel",
            "_view_count": null,
            "_view_module": "@jupyter-widgets/controls",
            "_view_module_version": "1.5.0",
            "_view_name": "HTMLView",
            "description": "",
            "description_tooltip": null,
            "layout": "IPY_MODEL_7ab98405e9bb4c8f873d42c8bad4c197",
            "placeholder": "​",
            "style": "IPY_MODEL_111aa25ce38145809ddca322953f3e60",
            "value": " 1/1 [00:00&lt;00:00,  1.49it/s]"
          }
        },
        "c4fc05f032cc4d8caeaa26c606c890b0": {
          "model_module": "@jupyter-widgets/base",
          "model_name": "LayoutModel",
          "model_module_version": "1.2.0",
          "state": {
            "_model_module": "@jupyter-widgets/base",
            "_model_module_version": "1.2.0",
            "_model_name": "LayoutModel",
            "_view_count": null,
            "_view_module": "@jupyter-widgets/base",
            "_view_module_version": "1.2.0",
            "_view_name": "LayoutView",
            "align_content": null,
            "align_items": null,
            "align_self": null,
            "border": null,
            "bottom": null,
            "display": null,
            "flex": null,
            "flex_flow": null,
            "grid_area": null,
            "grid_auto_columns": null,
            "grid_auto_flow": null,
            "grid_auto_rows": null,
            "grid_column": null,
            "grid_gap": null,
            "grid_row": null,
            "grid_template_areas": null,
            "grid_template_columns": null,
            "grid_template_rows": null,
            "height": null,
            "justify_content": null,
            "justify_items": null,
            "left": null,
            "margin": null,
            "max_height": null,
            "max_width": null,
            "min_height": null,
            "min_width": null,
            "object_fit": null,
            "object_position": null,
            "order": null,
            "overflow": null,
            "overflow_x": null,
            "overflow_y": null,
            "padding": null,
            "right": null,
            "top": null,
            "visibility": null,
            "width": null
          }
        },
        "6509cfff79544a44b6afb527105280c3": {
          "model_module": "@jupyter-widgets/base",
          "model_name": "LayoutModel",
          "model_module_version": "1.2.0",
          "state": {
            "_model_module": "@jupyter-widgets/base",
            "_model_module_version": "1.2.0",
            "_model_name": "LayoutModel",
            "_view_count": null,
            "_view_module": "@jupyter-widgets/base",
            "_view_module_version": "1.2.0",
            "_view_name": "LayoutView",
            "align_content": null,
            "align_items": null,
            "align_self": null,
            "border": null,
            "bottom": null,
            "display": null,
            "flex": null,
            "flex_flow": null,
            "grid_area": null,
            "grid_auto_columns": null,
            "grid_auto_flow": null,
            "grid_auto_rows": null,
            "grid_column": null,
            "grid_gap": null,
            "grid_row": null,
            "grid_template_areas": null,
            "grid_template_columns": null,
            "grid_template_rows": null,
            "height": null,
            "justify_content": null,
            "justify_items": null,
            "left": null,
            "margin": null,
            "max_height": null,
            "max_width": null,
            "min_height": null,
            "min_width": null,
            "object_fit": null,
            "object_position": null,
            "order": null,
            "overflow": null,
            "overflow_x": null,
            "overflow_y": null,
            "padding": null,
            "right": null,
            "top": null,
            "visibility": null,
            "width": null
          }
        },
        "9d633d26f0804b8183a4a8307bb9da1c": {
          "model_module": "@jupyter-widgets/controls",
          "model_name": "DescriptionStyleModel",
          "model_module_version": "1.5.0",
          "state": {
            "_model_module": "@jupyter-widgets/controls",
            "_model_module_version": "1.5.0",
            "_model_name": "DescriptionStyleModel",
            "_view_count": null,
            "_view_module": "@jupyter-widgets/base",
            "_view_module_version": "1.2.0",
            "_view_name": "StyleView",
            "description_width": ""
          }
        },
        "00fe33c5b604456da7605718745f3a91": {
          "model_module": "@jupyter-widgets/base",
          "model_name": "LayoutModel",
          "model_module_version": "1.2.0",
          "state": {
            "_model_module": "@jupyter-widgets/base",
            "_model_module_version": "1.2.0",
            "_model_name": "LayoutModel",
            "_view_count": null,
            "_view_module": "@jupyter-widgets/base",
            "_view_module_version": "1.2.0",
            "_view_name": "LayoutView",
            "align_content": null,
            "align_items": null,
            "align_self": null,
            "border": null,
            "bottom": null,
            "display": null,
            "flex": null,
            "flex_flow": null,
            "grid_area": null,
            "grid_auto_columns": null,
            "grid_auto_flow": null,
            "grid_auto_rows": null,
            "grid_column": null,
            "grid_gap": null,
            "grid_row": null,
            "grid_template_areas": null,
            "grid_template_columns": null,
            "grid_template_rows": null,
            "height": null,
            "justify_content": null,
            "justify_items": null,
            "left": null,
            "margin": null,
            "max_height": null,
            "max_width": null,
            "min_height": null,
            "min_width": null,
            "object_fit": null,
            "object_position": null,
            "order": null,
            "overflow": null,
            "overflow_x": null,
            "overflow_y": null,
            "padding": null,
            "right": null,
            "top": null,
            "visibility": null,
            "width": null
          }
        },
        "e5d9b00b312449acad7e9bcde722b148": {
          "model_module": "@jupyter-widgets/controls",
          "model_name": "ProgressStyleModel",
          "model_module_version": "1.5.0",
          "state": {
            "_model_module": "@jupyter-widgets/controls",
            "_model_module_version": "1.5.0",
            "_model_name": "ProgressStyleModel",
            "_view_count": null,
            "_view_module": "@jupyter-widgets/base",
            "_view_module_version": "1.2.0",
            "_view_name": "StyleView",
            "bar_color": null,
            "description_width": ""
          }
        },
        "7ab98405e9bb4c8f873d42c8bad4c197": {
          "model_module": "@jupyter-widgets/base",
          "model_name": "LayoutModel",
          "model_module_version": "1.2.0",
          "state": {
            "_model_module": "@jupyter-widgets/base",
            "_model_module_version": "1.2.0",
            "_model_name": "LayoutModel",
            "_view_count": null,
            "_view_module": "@jupyter-widgets/base",
            "_view_module_version": "1.2.0",
            "_view_name": "LayoutView",
            "align_content": null,
            "align_items": null,
            "align_self": null,
            "border": null,
            "bottom": null,
            "display": null,
            "flex": null,
            "flex_flow": null,
            "grid_area": null,
            "grid_auto_columns": null,
            "grid_auto_flow": null,
            "grid_auto_rows": null,
            "grid_column": null,
            "grid_gap": null,
            "grid_row": null,
            "grid_template_areas": null,
            "grid_template_columns": null,
            "grid_template_rows": null,
            "height": null,
            "justify_content": null,
            "justify_items": null,
            "left": null,
            "margin": null,
            "max_height": null,
            "max_width": null,
            "min_height": null,
            "min_width": null,
            "object_fit": null,
            "object_position": null,
            "order": null,
            "overflow": null,
            "overflow_x": null,
            "overflow_y": null,
            "padding": null,
            "right": null,
            "top": null,
            "visibility": null,
            "width": null
          }
        },
        "111aa25ce38145809ddca322953f3e60": {
          "model_module": "@jupyter-widgets/controls",
          "model_name": "DescriptionStyleModel",
          "model_module_version": "1.5.0",
          "state": {
            "_model_module": "@jupyter-widgets/controls",
            "_model_module_version": "1.5.0",
            "_model_name": "DescriptionStyleModel",
            "_view_count": null,
            "_view_module": "@jupyter-widgets/base",
            "_view_module_version": "1.2.0",
            "_view_name": "StyleView",
            "description_width": ""
          }
        },
        "fb5c9a3f107b4926a30f6d2d002179dd": {
          "model_module": "@jupyter-widgets/controls",
          "model_name": "HBoxModel",
          "model_module_version": "1.5.0",
          "state": {
            "_dom_classes": [],
            "_model_module": "@jupyter-widgets/controls",
            "_model_module_version": "1.5.0",
            "_model_name": "HBoxModel",
            "_view_count": null,
            "_view_module": "@jupyter-widgets/controls",
            "_view_module_version": "1.5.0",
            "_view_name": "HBoxView",
            "box_style": "",
            "children": [
              "IPY_MODEL_b0ec084ecaf34e93b826da155d8f2c0e",
              "IPY_MODEL_bf3266685b04412a8f5237cf73daad78",
              "IPY_MODEL_7e4500fbda154653a68d652abb91a96d"
            ],
            "layout": "IPY_MODEL_0e3e3f2b733c4b0a8d976aee0c9fc70c"
          }
        },
        "b0ec084ecaf34e93b826da155d8f2c0e": {
          "model_module": "@jupyter-widgets/controls",
          "model_name": "HTMLModel",
          "model_module_version": "1.5.0",
          "state": {
            "_dom_classes": [],
            "_model_module": "@jupyter-widgets/controls",
            "_model_module_version": "1.5.0",
            "_model_name": "HTMLModel",
            "_view_count": null,
            "_view_module": "@jupyter-widgets/controls",
            "_view_module_version": "1.5.0",
            "_view_name": "HTMLView",
            "description": "",
            "description_tooltip": null,
            "layout": "IPY_MODEL_9d280339f7d245acb0855511e96fc8e6",
            "placeholder": "​",
            "style": "IPY_MODEL_fe25a43564ac4b77ac785928e7e7272e",
            "value": "Downloading data: 100%"
          }
        },
        "bf3266685b04412a8f5237cf73daad78": {
          "model_module": "@jupyter-widgets/controls",
          "model_name": "FloatProgressModel",
          "model_module_version": "1.5.0",
          "state": {
            "_dom_classes": [],
            "_model_module": "@jupyter-widgets/controls",
            "_model_module_version": "1.5.0",
            "_model_name": "FloatProgressModel",
            "_view_count": null,
            "_view_module": "@jupyter-widgets/controls",
            "_view_module_version": "1.5.0",
            "_view_name": "ProgressView",
            "bar_style": "success",
            "description": "",
            "description_tooltip": null,
            "layout": "IPY_MODEL_8a973c2d0b8b466ebac41d32693edacb",
            "max": 476650,
            "min": 0,
            "orientation": "horizontal",
            "style": "IPY_MODEL_c06b444285a14326ae7245442e3d0258",
            "value": 476650
          }
        },
        "7e4500fbda154653a68d652abb91a96d": {
          "model_module": "@jupyter-widgets/controls",
          "model_name": "HTMLModel",
          "model_module_version": "1.5.0",
          "state": {
            "_dom_classes": [],
            "_model_module": "@jupyter-widgets/controls",
            "_model_module_version": "1.5.0",
            "_model_name": "HTMLModel",
            "_view_count": null,
            "_view_module": "@jupyter-widgets/controls",
            "_view_module_version": "1.5.0",
            "_view_name": "HTMLView",
            "description": "",
            "description_tooltip": null,
            "layout": "IPY_MODEL_e659d09f3a4748fb8b4d06050e0f10e0",
            "placeholder": "​",
            "style": "IPY_MODEL_df55536077334507a554427a67a57c4b",
            "value": " 477k/477k [00:00&lt;00:00, 8.80kB/s]"
          }
        },
        "0e3e3f2b733c4b0a8d976aee0c9fc70c": {
          "model_module": "@jupyter-widgets/base",
          "model_name": "LayoutModel",
          "model_module_version": "1.2.0",
          "state": {
            "_model_module": "@jupyter-widgets/base",
            "_model_module_version": "1.2.0",
            "_model_name": "LayoutModel",
            "_view_count": null,
            "_view_module": "@jupyter-widgets/base",
            "_view_module_version": "1.2.0",
            "_view_name": "LayoutView",
            "align_content": null,
            "align_items": null,
            "align_self": null,
            "border": null,
            "bottom": null,
            "display": null,
            "flex": null,
            "flex_flow": null,
            "grid_area": null,
            "grid_auto_columns": null,
            "grid_auto_flow": null,
            "grid_auto_rows": null,
            "grid_column": null,
            "grid_gap": null,
            "grid_row": null,
            "grid_template_areas": null,
            "grid_template_columns": null,
            "grid_template_rows": null,
            "height": null,
            "justify_content": null,
            "justify_items": null,
            "left": null,
            "margin": null,
            "max_height": null,
            "max_width": null,
            "min_height": null,
            "min_width": null,
            "object_fit": null,
            "object_position": null,
            "order": null,
            "overflow": null,
            "overflow_x": null,
            "overflow_y": null,
            "padding": null,
            "right": null,
            "top": null,
            "visibility": null,
            "width": null
          }
        },
        "9d280339f7d245acb0855511e96fc8e6": {
          "model_module": "@jupyter-widgets/base",
          "model_name": "LayoutModel",
          "model_module_version": "1.2.0",
          "state": {
            "_model_module": "@jupyter-widgets/base",
            "_model_module_version": "1.2.0",
            "_model_name": "LayoutModel",
            "_view_count": null,
            "_view_module": "@jupyter-widgets/base",
            "_view_module_version": "1.2.0",
            "_view_name": "LayoutView",
            "align_content": null,
            "align_items": null,
            "align_self": null,
            "border": null,
            "bottom": null,
            "display": null,
            "flex": null,
            "flex_flow": null,
            "grid_area": null,
            "grid_auto_columns": null,
            "grid_auto_flow": null,
            "grid_auto_rows": null,
            "grid_column": null,
            "grid_gap": null,
            "grid_row": null,
            "grid_template_areas": null,
            "grid_template_columns": null,
            "grid_template_rows": null,
            "height": null,
            "justify_content": null,
            "justify_items": null,
            "left": null,
            "margin": null,
            "max_height": null,
            "max_width": null,
            "min_height": null,
            "min_width": null,
            "object_fit": null,
            "object_position": null,
            "order": null,
            "overflow": null,
            "overflow_x": null,
            "overflow_y": null,
            "padding": null,
            "right": null,
            "top": null,
            "visibility": null,
            "width": null
          }
        },
        "fe25a43564ac4b77ac785928e7e7272e": {
          "model_module": "@jupyter-widgets/controls",
          "model_name": "DescriptionStyleModel",
          "model_module_version": "1.5.0",
          "state": {
            "_model_module": "@jupyter-widgets/controls",
            "_model_module_version": "1.5.0",
            "_model_name": "DescriptionStyleModel",
            "_view_count": null,
            "_view_module": "@jupyter-widgets/base",
            "_view_module_version": "1.2.0",
            "_view_name": "StyleView",
            "description_width": ""
          }
        },
        "8a973c2d0b8b466ebac41d32693edacb": {
          "model_module": "@jupyter-widgets/base",
          "model_name": "LayoutModel",
          "model_module_version": "1.2.0",
          "state": {
            "_model_module": "@jupyter-widgets/base",
            "_model_module_version": "1.2.0",
            "_model_name": "LayoutModel",
            "_view_count": null,
            "_view_module": "@jupyter-widgets/base",
            "_view_module_version": "1.2.0",
            "_view_name": "LayoutView",
            "align_content": null,
            "align_items": null,
            "align_self": null,
            "border": null,
            "bottom": null,
            "display": null,
            "flex": null,
            "flex_flow": null,
            "grid_area": null,
            "grid_auto_columns": null,
            "grid_auto_flow": null,
            "grid_auto_rows": null,
            "grid_column": null,
            "grid_gap": null,
            "grid_row": null,
            "grid_template_areas": null,
            "grid_template_columns": null,
            "grid_template_rows": null,
            "height": null,
            "justify_content": null,
            "justify_items": null,
            "left": null,
            "margin": null,
            "max_height": null,
            "max_width": null,
            "min_height": null,
            "min_width": null,
            "object_fit": null,
            "object_position": null,
            "order": null,
            "overflow": null,
            "overflow_x": null,
            "overflow_y": null,
            "padding": null,
            "right": null,
            "top": null,
            "visibility": null,
            "width": null
          }
        },
        "c06b444285a14326ae7245442e3d0258": {
          "model_module": "@jupyter-widgets/controls",
          "model_name": "ProgressStyleModel",
          "model_module_version": "1.5.0",
          "state": {
            "_model_module": "@jupyter-widgets/controls",
            "_model_module_version": "1.5.0",
            "_model_name": "ProgressStyleModel",
            "_view_count": null,
            "_view_module": "@jupyter-widgets/base",
            "_view_module_version": "1.2.0",
            "_view_name": "StyleView",
            "bar_color": null,
            "description_width": ""
          }
        },
        "e659d09f3a4748fb8b4d06050e0f10e0": {
          "model_module": "@jupyter-widgets/base",
          "model_name": "LayoutModel",
          "model_module_version": "1.2.0",
          "state": {
            "_model_module": "@jupyter-widgets/base",
            "_model_module_version": "1.2.0",
            "_model_name": "LayoutModel",
            "_view_count": null,
            "_view_module": "@jupyter-widgets/base",
            "_view_module_version": "1.2.0",
            "_view_name": "LayoutView",
            "align_content": null,
            "align_items": null,
            "align_self": null,
            "border": null,
            "bottom": null,
            "display": null,
            "flex": null,
            "flex_flow": null,
            "grid_area": null,
            "grid_auto_columns": null,
            "grid_auto_flow": null,
            "grid_auto_rows": null,
            "grid_column": null,
            "grid_gap": null,
            "grid_row": null,
            "grid_template_areas": null,
            "grid_template_columns": null,
            "grid_template_rows": null,
            "height": null,
            "justify_content": null,
            "justify_items": null,
            "left": null,
            "margin": null,
            "max_height": null,
            "max_width": null,
            "min_height": null,
            "min_width": null,
            "object_fit": null,
            "object_position": null,
            "order": null,
            "overflow": null,
            "overflow_x": null,
            "overflow_y": null,
            "padding": null,
            "right": null,
            "top": null,
            "visibility": null,
            "width": null
          }
        },
        "df55536077334507a554427a67a57c4b": {
          "model_module": "@jupyter-widgets/controls",
          "model_name": "DescriptionStyleModel",
          "model_module_version": "1.5.0",
          "state": {
            "_model_module": "@jupyter-widgets/controls",
            "_model_module_version": "1.5.0",
            "_model_name": "DescriptionStyleModel",
            "_view_count": null,
            "_view_module": "@jupyter-widgets/base",
            "_view_module_version": "1.2.0",
            "_view_name": "StyleView",
            "description_width": ""
          }
        },
        "ca34755a194b4001bb5dc33838497870": {
          "model_module": "@jupyter-widgets/controls",
          "model_name": "HBoxModel",
          "model_module_version": "1.5.0",
          "state": {
            "_dom_classes": [],
            "_model_module": "@jupyter-widgets/controls",
            "_model_module_version": "1.5.0",
            "_model_name": "HBoxModel",
            "_view_count": null,
            "_view_module": "@jupyter-widgets/controls",
            "_view_module_version": "1.5.0",
            "_view_name": "HBoxView",
            "box_style": "",
            "children": [
              "IPY_MODEL_abd80b46483b47b3a01ea53e4a5fcb5b",
              "IPY_MODEL_968ef94de6b746a18fd7657fb66d3008",
              "IPY_MODEL_5d27bdd3e357434aa67c5905822f61b4"
            ],
            "layout": "IPY_MODEL_58d08da6bfb9424d8d7449eea7c84d63"
          }
        },
        "abd80b46483b47b3a01ea53e4a5fcb5b": {
          "model_module": "@jupyter-widgets/controls",
          "model_name": "HTMLModel",
          "model_module_version": "1.5.0",
          "state": {
            "_dom_classes": [],
            "_model_module": "@jupyter-widgets/controls",
            "_model_module_version": "1.5.0",
            "_model_name": "HTMLModel",
            "_view_count": null,
            "_view_module": "@jupyter-widgets/controls",
            "_view_module_version": "1.5.0",
            "_view_name": "HTMLView",
            "description": "",
            "description_tooltip": null,
            "layout": "IPY_MODEL_576bacc56713477397e92fa5c529210a",
            "placeholder": "​",
            "style": "IPY_MODEL_be108b2bc5344fc5af337af827b7237d",
            "value": "Extracting data files: 100%"
          }
        },
        "968ef94de6b746a18fd7657fb66d3008": {
          "model_module": "@jupyter-widgets/controls",
          "model_name": "FloatProgressModel",
          "model_module_version": "1.5.0",
          "state": {
            "_dom_classes": [],
            "_model_module": "@jupyter-widgets/controls",
            "_model_module_version": "1.5.0",
            "_model_name": "FloatProgressModel",
            "_view_count": null,
            "_view_module": "@jupyter-widgets/controls",
            "_view_module_version": "1.5.0",
            "_view_name": "ProgressView",
            "bar_style": "success",
            "description": "",
            "description_tooltip": null,
            "layout": "IPY_MODEL_bc82832dba224895886106839ec8650a",
            "max": 1,
            "min": 0,
            "orientation": "horizontal",
            "style": "IPY_MODEL_de0a62f94e114c7e949f239bf2628d3d",
            "value": 1
          }
        },
        "5d27bdd3e357434aa67c5905822f61b4": {
          "model_module": "@jupyter-widgets/controls",
          "model_name": "HTMLModel",
          "model_module_version": "1.5.0",
          "state": {
            "_dom_classes": [],
            "_model_module": "@jupyter-widgets/controls",
            "_model_module_version": "1.5.0",
            "_model_name": "HTMLModel",
            "_view_count": null,
            "_view_module": "@jupyter-widgets/controls",
            "_view_module_version": "1.5.0",
            "_view_name": "HTMLView",
            "description": "",
            "description_tooltip": null,
            "layout": "IPY_MODEL_ed3179a972d2478188c394ef9da60e4e",
            "placeholder": "​",
            "style": "IPY_MODEL_919d804d0bad4f6e9cc4e09578b2a0eb",
            "value": " 1/1 [00:00&lt;00:00,  8.11it/s]"
          }
        },
        "58d08da6bfb9424d8d7449eea7c84d63": {
          "model_module": "@jupyter-widgets/base",
          "model_name": "LayoutModel",
          "model_module_version": "1.2.0",
          "state": {
            "_model_module": "@jupyter-widgets/base",
            "_model_module_version": "1.2.0",
            "_model_name": "LayoutModel",
            "_view_count": null,
            "_view_module": "@jupyter-widgets/base",
            "_view_module_version": "1.2.0",
            "_view_name": "LayoutView",
            "align_content": null,
            "align_items": null,
            "align_self": null,
            "border": null,
            "bottom": null,
            "display": null,
            "flex": null,
            "flex_flow": null,
            "grid_area": null,
            "grid_auto_columns": null,
            "grid_auto_flow": null,
            "grid_auto_rows": null,
            "grid_column": null,
            "grid_gap": null,
            "grid_row": null,
            "grid_template_areas": null,
            "grid_template_columns": null,
            "grid_template_rows": null,
            "height": null,
            "justify_content": null,
            "justify_items": null,
            "left": null,
            "margin": null,
            "max_height": null,
            "max_width": null,
            "min_height": null,
            "min_width": null,
            "object_fit": null,
            "object_position": null,
            "order": null,
            "overflow": null,
            "overflow_x": null,
            "overflow_y": null,
            "padding": null,
            "right": null,
            "top": null,
            "visibility": null,
            "width": null
          }
        },
        "576bacc56713477397e92fa5c529210a": {
          "model_module": "@jupyter-widgets/base",
          "model_name": "LayoutModel",
          "model_module_version": "1.2.0",
          "state": {
            "_model_module": "@jupyter-widgets/base",
            "_model_module_version": "1.2.0",
            "_model_name": "LayoutModel",
            "_view_count": null,
            "_view_module": "@jupyter-widgets/base",
            "_view_module_version": "1.2.0",
            "_view_name": "LayoutView",
            "align_content": null,
            "align_items": null,
            "align_self": null,
            "border": null,
            "bottom": null,
            "display": null,
            "flex": null,
            "flex_flow": null,
            "grid_area": null,
            "grid_auto_columns": null,
            "grid_auto_flow": null,
            "grid_auto_rows": null,
            "grid_column": null,
            "grid_gap": null,
            "grid_row": null,
            "grid_template_areas": null,
            "grid_template_columns": null,
            "grid_template_rows": null,
            "height": null,
            "justify_content": null,
            "justify_items": null,
            "left": null,
            "margin": null,
            "max_height": null,
            "max_width": null,
            "min_height": null,
            "min_width": null,
            "object_fit": null,
            "object_position": null,
            "order": null,
            "overflow": null,
            "overflow_x": null,
            "overflow_y": null,
            "padding": null,
            "right": null,
            "top": null,
            "visibility": null,
            "width": null
          }
        },
        "be108b2bc5344fc5af337af827b7237d": {
          "model_module": "@jupyter-widgets/controls",
          "model_name": "DescriptionStyleModel",
          "model_module_version": "1.5.0",
          "state": {
            "_model_module": "@jupyter-widgets/controls",
            "_model_module_version": "1.5.0",
            "_model_name": "DescriptionStyleModel",
            "_view_count": null,
            "_view_module": "@jupyter-widgets/base",
            "_view_module_version": "1.2.0",
            "_view_name": "StyleView",
            "description_width": ""
          }
        },
        "bc82832dba224895886106839ec8650a": {
          "model_module": "@jupyter-widgets/base",
          "model_name": "LayoutModel",
          "model_module_version": "1.2.0",
          "state": {
            "_model_module": "@jupyter-widgets/base",
            "_model_module_version": "1.2.0",
            "_model_name": "LayoutModel",
            "_view_count": null,
            "_view_module": "@jupyter-widgets/base",
            "_view_module_version": "1.2.0",
            "_view_name": "LayoutView",
            "align_content": null,
            "align_items": null,
            "align_self": null,
            "border": null,
            "bottom": null,
            "display": null,
            "flex": null,
            "flex_flow": null,
            "grid_area": null,
            "grid_auto_columns": null,
            "grid_auto_flow": null,
            "grid_auto_rows": null,
            "grid_column": null,
            "grid_gap": null,
            "grid_row": null,
            "grid_template_areas": null,
            "grid_template_columns": null,
            "grid_template_rows": null,
            "height": null,
            "justify_content": null,
            "justify_items": null,
            "left": null,
            "margin": null,
            "max_height": null,
            "max_width": null,
            "min_height": null,
            "min_width": null,
            "object_fit": null,
            "object_position": null,
            "order": null,
            "overflow": null,
            "overflow_x": null,
            "overflow_y": null,
            "padding": null,
            "right": null,
            "top": null,
            "visibility": null,
            "width": null
          }
        },
        "de0a62f94e114c7e949f239bf2628d3d": {
          "model_module": "@jupyter-widgets/controls",
          "model_name": "ProgressStyleModel",
          "model_module_version": "1.5.0",
          "state": {
            "_model_module": "@jupyter-widgets/controls",
            "_model_module_version": "1.5.0",
            "_model_name": "ProgressStyleModel",
            "_view_count": null,
            "_view_module": "@jupyter-widgets/base",
            "_view_module_version": "1.2.0",
            "_view_name": "StyleView",
            "bar_color": null,
            "description_width": ""
          }
        },
        "ed3179a972d2478188c394ef9da60e4e": {
          "model_module": "@jupyter-widgets/base",
          "model_name": "LayoutModel",
          "model_module_version": "1.2.0",
          "state": {
            "_model_module": "@jupyter-widgets/base",
            "_model_module_version": "1.2.0",
            "_model_name": "LayoutModel",
            "_view_count": null,
            "_view_module": "@jupyter-widgets/base",
            "_view_module_version": "1.2.0",
            "_view_name": "LayoutView",
            "align_content": null,
            "align_items": null,
            "align_self": null,
            "border": null,
            "bottom": null,
            "display": null,
            "flex": null,
            "flex_flow": null,
            "grid_area": null,
            "grid_auto_columns": null,
            "grid_auto_flow": null,
            "grid_auto_rows": null,
            "grid_column": null,
            "grid_gap": null,
            "grid_row": null,
            "grid_template_areas": null,
            "grid_template_columns": null,
            "grid_template_rows": null,
            "height": null,
            "justify_content": null,
            "justify_items": null,
            "left": null,
            "margin": null,
            "max_height": null,
            "max_width": null,
            "min_height": null,
            "min_width": null,
            "object_fit": null,
            "object_position": null,
            "order": null,
            "overflow": null,
            "overflow_x": null,
            "overflow_y": null,
            "padding": null,
            "right": null,
            "top": null,
            "visibility": null,
            "width": null
          }
        },
        "919d804d0bad4f6e9cc4e09578b2a0eb": {
          "model_module": "@jupyter-widgets/controls",
          "model_name": "DescriptionStyleModel",
          "model_module_version": "1.5.0",
          "state": {
            "_model_module": "@jupyter-widgets/controls",
            "_model_module_version": "1.5.0",
            "_model_name": "DescriptionStyleModel",
            "_view_count": null,
            "_view_module": "@jupyter-widgets/base",
            "_view_module_version": "1.2.0",
            "_view_name": "StyleView",
            "description_width": ""
          }
        },
        "e180a078155d42b687629cf6bc59abca": {
          "model_module": "@jupyter-widgets/controls",
          "model_name": "HBoxModel",
          "model_module_version": "1.5.0",
          "state": {
            "_dom_classes": [],
            "_model_module": "@jupyter-widgets/controls",
            "_model_module_version": "1.5.0",
            "_model_name": "HBoxModel",
            "_view_count": null,
            "_view_module": "@jupyter-widgets/controls",
            "_view_module_version": "1.5.0",
            "_view_name": "HBoxView",
            "box_style": "",
            "children": [
              "IPY_MODEL_7d086a90c24c45ed87d0256a009e2665",
              "IPY_MODEL_7569df861e0b4b31a3483052763a7035",
              "IPY_MODEL_abc49bbb962a4b769753a952df0b7e30"
            ],
            "layout": "IPY_MODEL_a785c515052b44a79f269d1b2b2903dc"
          }
        },
        "7d086a90c24c45ed87d0256a009e2665": {
          "model_module": "@jupyter-widgets/controls",
          "model_name": "HTMLModel",
          "model_module_version": "1.5.0",
          "state": {
            "_dom_classes": [],
            "_model_module": "@jupyter-widgets/controls",
            "_model_module_version": "1.5.0",
            "_model_name": "HTMLModel",
            "_view_count": null,
            "_view_module": "@jupyter-widgets/controls",
            "_view_module_version": "1.5.0",
            "_view_name": "HTMLView",
            "description": "",
            "description_tooltip": null,
            "layout": "IPY_MODEL_22d680245a5344548f02db4ae6367d05",
            "placeholder": "​",
            "style": "IPY_MODEL_36aaed128a4a4bdab25574ff0f030e80",
            "value": ""
          }
        },
        "7569df861e0b4b31a3483052763a7035": {
          "model_module": "@jupyter-widgets/controls",
          "model_name": "FloatProgressModel",
          "model_module_version": "1.5.0",
          "state": {
            "_dom_classes": [],
            "_model_module": "@jupyter-widgets/controls",
            "_model_module_version": "1.5.0",
            "_model_name": "FloatProgressModel",
            "_view_count": null,
            "_view_module": "@jupyter-widgets/controls",
            "_view_module_version": "1.5.0",
            "_view_name": "ProgressView",
            "bar_style": "info",
            "description": "",
            "description_tooltip": null,
            "layout": "IPY_MODEL_eaacf26344ec44828ffd9ef7933e136d",
            "max": 1,
            "min": 0,
            "orientation": "horizontal",
            "style": "IPY_MODEL_26cbc091d8ba42698a3ecba1082d6b83",
            "value": 1
          }
        },
        "abc49bbb962a4b769753a952df0b7e30": {
          "model_module": "@jupyter-widgets/controls",
          "model_name": "HTMLModel",
          "model_module_version": "1.5.0",
          "state": {
            "_dom_classes": [],
            "_model_module": "@jupyter-widgets/controls",
            "_model_module_version": "1.5.0",
            "_model_name": "HTMLModel",
            "_view_count": null,
            "_view_module": "@jupyter-widgets/controls",
            "_view_module_version": "1.5.0",
            "_view_name": "HTMLView",
            "description": "",
            "description_tooltip": null,
            "layout": "IPY_MODEL_44145cc32fca44229a4f8833e8b83ecb",
            "placeholder": "​",
            "style": "IPY_MODEL_0b197af93d234147a69218f4a298546f",
            "value": " 1/? [00:00&lt;00:00,  5.10 tables/s]"
          }
        },
        "a785c515052b44a79f269d1b2b2903dc": {
          "model_module": "@jupyter-widgets/base",
          "model_name": "LayoutModel",
          "model_module_version": "1.2.0",
          "state": {
            "_model_module": "@jupyter-widgets/base",
            "_model_module_version": "1.2.0",
            "_model_name": "LayoutModel",
            "_view_count": null,
            "_view_module": "@jupyter-widgets/base",
            "_view_module_version": "1.2.0",
            "_view_name": "LayoutView",
            "align_content": null,
            "align_items": null,
            "align_self": null,
            "border": null,
            "bottom": null,
            "display": null,
            "flex": null,
            "flex_flow": null,
            "grid_area": null,
            "grid_auto_columns": null,
            "grid_auto_flow": null,
            "grid_auto_rows": null,
            "grid_column": null,
            "grid_gap": null,
            "grid_row": null,
            "grid_template_areas": null,
            "grid_template_columns": null,
            "grid_template_rows": null,
            "height": null,
            "justify_content": null,
            "justify_items": null,
            "left": null,
            "margin": null,
            "max_height": null,
            "max_width": null,
            "min_height": null,
            "min_width": null,
            "object_fit": null,
            "object_position": null,
            "order": null,
            "overflow": null,
            "overflow_x": null,
            "overflow_y": null,
            "padding": null,
            "right": null,
            "top": null,
            "visibility": "hidden",
            "width": null
          }
        },
        "22d680245a5344548f02db4ae6367d05": {
          "model_module": "@jupyter-widgets/base",
          "model_name": "LayoutModel",
          "model_module_version": "1.2.0",
          "state": {
            "_model_module": "@jupyter-widgets/base",
            "_model_module_version": "1.2.0",
            "_model_name": "LayoutModel",
            "_view_count": null,
            "_view_module": "@jupyter-widgets/base",
            "_view_module_version": "1.2.0",
            "_view_name": "LayoutView",
            "align_content": null,
            "align_items": null,
            "align_self": null,
            "border": null,
            "bottom": null,
            "display": null,
            "flex": null,
            "flex_flow": null,
            "grid_area": null,
            "grid_auto_columns": null,
            "grid_auto_flow": null,
            "grid_auto_rows": null,
            "grid_column": null,
            "grid_gap": null,
            "grid_row": null,
            "grid_template_areas": null,
            "grid_template_columns": null,
            "grid_template_rows": null,
            "height": null,
            "justify_content": null,
            "justify_items": null,
            "left": null,
            "margin": null,
            "max_height": null,
            "max_width": null,
            "min_height": null,
            "min_width": null,
            "object_fit": null,
            "object_position": null,
            "order": null,
            "overflow": null,
            "overflow_x": null,
            "overflow_y": null,
            "padding": null,
            "right": null,
            "top": null,
            "visibility": null,
            "width": null
          }
        },
        "36aaed128a4a4bdab25574ff0f030e80": {
          "model_module": "@jupyter-widgets/controls",
          "model_name": "DescriptionStyleModel",
          "model_module_version": "1.5.0",
          "state": {
            "_model_module": "@jupyter-widgets/controls",
            "_model_module_version": "1.5.0",
            "_model_name": "DescriptionStyleModel",
            "_view_count": null,
            "_view_module": "@jupyter-widgets/base",
            "_view_module_version": "1.2.0",
            "_view_name": "StyleView",
            "description_width": ""
          }
        },
        "eaacf26344ec44828ffd9ef7933e136d": {
          "model_module": "@jupyter-widgets/base",
          "model_name": "LayoutModel",
          "model_module_version": "1.2.0",
          "state": {
            "_model_module": "@jupyter-widgets/base",
            "_model_module_version": "1.2.0",
            "_model_name": "LayoutModel",
            "_view_count": null,
            "_view_module": "@jupyter-widgets/base",
            "_view_module_version": "1.2.0",
            "_view_name": "LayoutView",
            "align_content": null,
            "align_items": null,
            "align_self": null,
            "border": null,
            "bottom": null,
            "display": null,
            "flex": null,
            "flex_flow": null,
            "grid_area": null,
            "grid_auto_columns": null,
            "grid_auto_flow": null,
            "grid_auto_rows": null,
            "grid_column": null,
            "grid_gap": null,
            "grid_row": null,
            "grid_template_areas": null,
            "grid_template_columns": null,
            "grid_template_rows": null,
            "height": null,
            "justify_content": null,
            "justify_items": null,
            "left": null,
            "margin": null,
            "max_height": null,
            "max_width": null,
            "min_height": null,
            "min_width": null,
            "object_fit": null,
            "object_position": null,
            "order": null,
            "overflow": null,
            "overflow_x": null,
            "overflow_y": null,
            "padding": null,
            "right": null,
            "top": null,
            "visibility": null,
            "width": "20px"
          }
        },
        "26cbc091d8ba42698a3ecba1082d6b83": {
          "model_module": "@jupyter-widgets/controls",
          "model_name": "ProgressStyleModel",
          "model_module_version": "1.5.0",
          "state": {
            "_model_module": "@jupyter-widgets/controls",
            "_model_module_version": "1.5.0",
            "_model_name": "ProgressStyleModel",
            "_view_count": null,
            "_view_module": "@jupyter-widgets/base",
            "_view_module_version": "1.2.0",
            "_view_name": "StyleView",
            "bar_color": null,
            "description_width": ""
          }
        },
        "44145cc32fca44229a4f8833e8b83ecb": {
          "model_module": "@jupyter-widgets/base",
          "model_name": "LayoutModel",
          "model_module_version": "1.2.0",
          "state": {
            "_model_module": "@jupyter-widgets/base",
            "_model_module_version": "1.2.0",
            "_model_name": "LayoutModel",
            "_view_count": null,
            "_view_module": "@jupyter-widgets/base",
            "_view_module_version": "1.2.0",
            "_view_name": "LayoutView",
            "align_content": null,
            "align_items": null,
            "align_self": null,
            "border": null,
            "bottom": null,
            "display": null,
            "flex": null,
            "flex_flow": null,
            "grid_area": null,
            "grid_auto_columns": null,
            "grid_auto_flow": null,
            "grid_auto_rows": null,
            "grid_column": null,
            "grid_gap": null,
            "grid_row": null,
            "grid_template_areas": null,
            "grid_template_columns": null,
            "grid_template_rows": null,
            "height": null,
            "justify_content": null,
            "justify_items": null,
            "left": null,
            "margin": null,
            "max_height": null,
            "max_width": null,
            "min_height": null,
            "min_width": null,
            "object_fit": null,
            "object_position": null,
            "order": null,
            "overflow": null,
            "overflow_x": null,
            "overflow_y": null,
            "padding": null,
            "right": null,
            "top": null,
            "visibility": null,
            "width": null
          }
        },
        "0b197af93d234147a69218f4a298546f": {
          "model_module": "@jupyter-widgets/controls",
          "model_name": "DescriptionStyleModel",
          "model_module_version": "1.5.0",
          "state": {
            "_model_module": "@jupyter-widgets/controls",
            "_model_module_version": "1.5.0",
            "_model_name": "DescriptionStyleModel",
            "_view_count": null,
            "_view_module": "@jupyter-widgets/base",
            "_view_module_version": "1.2.0",
            "_view_name": "StyleView",
            "description_width": ""
          }
        },
        "6243a6ced1b54c0ab8c34f7128609c43": {
          "model_module": "@jupyter-widgets/controls",
          "model_name": "HBoxModel",
          "model_module_version": "1.5.0",
          "state": {
            "_dom_classes": [],
            "_model_module": "@jupyter-widgets/controls",
            "_model_module_version": "1.5.0",
            "_model_name": "HBoxModel",
            "_view_count": null,
            "_view_module": "@jupyter-widgets/controls",
            "_view_module_version": "1.5.0",
            "_view_name": "HBoxView",
            "box_style": "",
            "children": [
              "IPY_MODEL_d10eb2861a9f46e99cb39d9f0ba86040",
              "IPY_MODEL_119e28e10c1c4ecfa736e12c05b541be",
              "IPY_MODEL_f64c1accb1f442c2a9d4fdd172171375"
            ],
            "layout": "IPY_MODEL_99bc161b54e2409a80e8811af7227588"
          }
        },
        "d10eb2861a9f46e99cb39d9f0ba86040": {
          "model_module": "@jupyter-widgets/controls",
          "model_name": "HTMLModel",
          "model_module_version": "1.5.0",
          "state": {
            "_dom_classes": [],
            "_model_module": "@jupyter-widgets/controls",
            "_model_module_version": "1.5.0",
            "_model_name": "HTMLModel",
            "_view_count": null,
            "_view_module": "@jupyter-widgets/controls",
            "_view_module_version": "1.5.0",
            "_view_name": "HTMLView",
            "description": "",
            "description_tooltip": null,
            "layout": "IPY_MODEL_16bf7c0a362d43a0a5c3fffb16795f7b",
            "placeholder": "​",
            "style": "IPY_MODEL_333eb307e2614409b574ac71210169aa",
            "value": "100%"
          }
        },
        "119e28e10c1c4ecfa736e12c05b541be": {
          "model_module": "@jupyter-widgets/controls",
          "model_name": "FloatProgressModel",
          "model_module_version": "1.5.0",
          "state": {
            "_dom_classes": [],
            "_model_module": "@jupyter-widgets/controls",
            "_model_module_version": "1.5.0",
            "_model_name": "FloatProgressModel",
            "_view_count": null,
            "_view_module": "@jupyter-widgets/controls",
            "_view_module_version": "1.5.0",
            "_view_name": "ProgressView",
            "bar_style": "success",
            "description": "",
            "description_tooltip": null,
            "layout": "IPY_MODEL_10f93fe8698f4a789165bf48f9dddf25",
            "max": 1,
            "min": 0,
            "orientation": "horizontal",
            "style": "IPY_MODEL_f9edaa2fe3514d05bb9de06d3409ac94",
            "value": 1
          }
        },
        "f64c1accb1f442c2a9d4fdd172171375": {
          "model_module": "@jupyter-widgets/controls",
          "model_name": "HTMLModel",
          "model_module_version": "1.5.0",
          "state": {
            "_dom_classes": [],
            "_model_module": "@jupyter-widgets/controls",
            "_model_module_version": "1.5.0",
            "_model_name": "HTMLModel",
            "_view_count": null,
            "_view_module": "@jupyter-widgets/controls",
            "_view_module_version": "1.5.0",
            "_view_name": "HTMLView",
            "description": "",
            "description_tooltip": null,
            "layout": "IPY_MODEL_e40f342e3f904aad810b468fc787f23a",
            "placeholder": "​",
            "style": "IPY_MODEL_4749bdd4713e44d4951a7f90b8e0dca3",
            "value": " 1/1 [00:00&lt;00:00,  6.44it/s]"
          }
        },
        "99bc161b54e2409a80e8811af7227588": {
          "model_module": "@jupyter-widgets/base",
          "model_name": "LayoutModel",
          "model_module_version": "1.2.0",
          "state": {
            "_model_module": "@jupyter-widgets/base",
            "_model_module_version": "1.2.0",
            "_model_name": "LayoutModel",
            "_view_count": null,
            "_view_module": "@jupyter-widgets/base",
            "_view_module_version": "1.2.0",
            "_view_name": "LayoutView",
            "align_content": null,
            "align_items": null,
            "align_self": null,
            "border": null,
            "bottom": null,
            "display": null,
            "flex": null,
            "flex_flow": null,
            "grid_area": null,
            "grid_auto_columns": null,
            "grid_auto_flow": null,
            "grid_auto_rows": null,
            "grid_column": null,
            "grid_gap": null,
            "grid_row": null,
            "grid_template_areas": null,
            "grid_template_columns": null,
            "grid_template_rows": null,
            "height": null,
            "justify_content": null,
            "justify_items": null,
            "left": null,
            "margin": null,
            "max_height": null,
            "max_width": null,
            "min_height": null,
            "min_width": null,
            "object_fit": null,
            "object_position": null,
            "order": null,
            "overflow": null,
            "overflow_x": null,
            "overflow_y": null,
            "padding": null,
            "right": null,
            "top": null,
            "visibility": null,
            "width": null
          }
        },
        "16bf7c0a362d43a0a5c3fffb16795f7b": {
          "model_module": "@jupyter-widgets/base",
          "model_name": "LayoutModel",
          "model_module_version": "1.2.0",
          "state": {
            "_model_module": "@jupyter-widgets/base",
            "_model_module_version": "1.2.0",
            "_model_name": "LayoutModel",
            "_view_count": null,
            "_view_module": "@jupyter-widgets/base",
            "_view_module_version": "1.2.0",
            "_view_name": "LayoutView",
            "align_content": null,
            "align_items": null,
            "align_self": null,
            "border": null,
            "bottom": null,
            "display": null,
            "flex": null,
            "flex_flow": null,
            "grid_area": null,
            "grid_auto_columns": null,
            "grid_auto_flow": null,
            "grid_auto_rows": null,
            "grid_column": null,
            "grid_gap": null,
            "grid_row": null,
            "grid_template_areas": null,
            "grid_template_columns": null,
            "grid_template_rows": null,
            "height": null,
            "justify_content": null,
            "justify_items": null,
            "left": null,
            "margin": null,
            "max_height": null,
            "max_width": null,
            "min_height": null,
            "min_width": null,
            "object_fit": null,
            "object_position": null,
            "order": null,
            "overflow": null,
            "overflow_x": null,
            "overflow_y": null,
            "padding": null,
            "right": null,
            "top": null,
            "visibility": null,
            "width": null
          }
        },
        "333eb307e2614409b574ac71210169aa": {
          "model_module": "@jupyter-widgets/controls",
          "model_name": "DescriptionStyleModel",
          "model_module_version": "1.5.0",
          "state": {
            "_model_module": "@jupyter-widgets/controls",
            "_model_module_version": "1.5.0",
            "_model_name": "DescriptionStyleModel",
            "_view_count": null,
            "_view_module": "@jupyter-widgets/base",
            "_view_module_version": "1.2.0",
            "_view_name": "StyleView",
            "description_width": ""
          }
        },
        "10f93fe8698f4a789165bf48f9dddf25": {
          "model_module": "@jupyter-widgets/base",
          "model_name": "LayoutModel",
          "model_module_version": "1.2.0",
          "state": {
            "_model_module": "@jupyter-widgets/base",
            "_model_module_version": "1.2.0",
            "_model_name": "LayoutModel",
            "_view_count": null,
            "_view_module": "@jupyter-widgets/base",
            "_view_module_version": "1.2.0",
            "_view_name": "LayoutView",
            "align_content": null,
            "align_items": null,
            "align_self": null,
            "border": null,
            "bottom": null,
            "display": null,
            "flex": null,
            "flex_flow": null,
            "grid_area": null,
            "grid_auto_columns": null,
            "grid_auto_flow": null,
            "grid_auto_rows": null,
            "grid_column": null,
            "grid_gap": null,
            "grid_row": null,
            "grid_template_areas": null,
            "grid_template_columns": null,
            "grid_template_rows": null,
            "height": null,
            "justify_content": null,
            "justify_items": null,
            "left": null,
            "margin": null,
            "max_height": null,
            "max_width": null,
            "min_height": null,
            "min_width": null,
            "object_fit": null,
            "object_position": null,
            "order": null,
            "overflow": null,
            "overflow_x": null,
            "overflow_y": null,
            "padding": null,
            "right": null,
            "top": null,
            "visibility": null,
            "width": null
          }
        },
        "f9edaa2fe3514d05bb9de06d3409ac94": {
          "model_module": "@jupyter-widgets/controls",
          "model_name": "ProgressStyleModel",
          "model_module_version": "1.5.0",
          "state": {
            "_model_module": "@jupyter-widgets/controls",
            "_model_module_version": "1.5.0",
            "_model_name": "ProgressStyleModel",
            "_view_count": null,
            "_view_module": "@jupyter-widgets/base",
            "_view_module_version": "1.2.0",
            "_view_name": "StyleView",
            "bar_color": null,
            "description_width": ""
          }
        },
        "e40f342e3f904aad810b468fc787f23a": {
          "model_module": "@jupyter-widgets/base",
          "model_name": "LayoutModel",
          "model_module_version": "1.2.0",
          "state": {
            "_model_module": "@jupyter-widgets/base",
            "_model_module_version": "1.2.0",
            "_model_name": "LayoutModel",
            "_view_count": null,
            "_view_module": "@jupyter-widgets/base",
            "_view_module_version": "1.2.0",
            "_view_name": "LayoutView",
            "align_content": null,
            "align_items": null,
            "align_self": null,
            "border": null,
            "bottom": null,
            "display": null,
            "flex": null,
            "flex_flow": null,
            "grid_area": null,
            "grid_auto_columns": null,
            "grid_auto_flow": null,
            "grid_auto_rows": null,
            "grid_column": null,
            "grid_gap": null,
            "grid_row": null,
            "grid_template_areas": null,
            "grid_template_columns": null,
            "grid_template_rows": null,
            "height": null,
            "justify_content": null,
            "justify_items": null,
            "left": null,
            "margin": null,
            "max_height": null,
            "max_width": null,
            "min_height": null,
            "min_width": null,
            "object_fit": null,
            "object_position": null,
            "order": null,
            "overflow": null,
            "overflow_x": null,
            "overflow_y": null,
            "padding": null,
            "right": null,
            "top": null,
            "visibility": null,
            "width": null
          }
        },
        "4749bdd4713e44d4951a7f90b8e0dca3": {
          "model_module": "@jupyter-widgets/controls",
          "model_name": "DescriptionStyleModel",
          "model_module_version": "1.5.0",
          "state": {
            "_model_module": "@jupyter-widgets/controls",
            "_model_module_version": "1.5.0",
            "_model_name": "DescriptionStyleModel",
            "_view_count": null,
            "_view_module": "@jupyter-widgets/base",
            "_view_module_version": "1.2.0",
            "_view_name": "StyleView",
            "description_width": ""
          }
        }
      }
    }
  },
  "cells": [
    {
      "cell_type": "code",
      "source": [
        "!pip install datasets"
      ],
      "metadata": {
        "colab": {
          "base_uri": "https://localhost:8080/"
        },
        "id": "BYGU19O7IV8t",
        "outputId": "009f07a3-13ab-4e95-ec45-af4c8d1c05e4"
      },
      "execution_count": null,
      "outputs": [
        {
          "output_type": "stream",
          "name": "stdout",
          "text": [
            "Looking in indexes: https://pypi.org/simple, https://us-python.pkg.dev/colab-wheels/public/simple/\n",
            "Collecting datasets\n",
            "  Downloading datasets-2.5.2-py3-none-any.whl (432 kB)\n",
            "\u001b[K     |████████████████████████████████| 432 kB 5.1 MB/s \n",
            "\u001b[?25hRequirement already satisfied: fsspec[http]>=2021.11.1 in /usr/local/lib/python3.7/dist-packages (from datasets) (2022.8.2)\n",
            "Requirement already satisfied: numpy>=1.17 in /usr/local/lib/python3.7/dist-packages (from datasets) (1.21.6)\n",
            "Requirement already satisfied: requests>=2.19.0 in /usr/local/lib/python3.7/dist-packages (from datasets) (2.23.0)\n",
            "Collecting huggingface-hub<1.0.0,>=0.2.0\n",
            "  Downloading huggingface_hub-0.10.0-py3-none-any.whl (163 kB)\n",
            "\u001b[K     |████████████████████████████████| 163 kB 53.5 MB/s \n",
            "\u001b[?25hRequirement already satisfied: tqdm>=4.62.1 in /usr/local/lib/python3.7/dist-packages (from datasets) (4.64.1)\n",
            "Requirement already satisfied: importlib-metadata in /usr/local/lib/python3.7/dist-packages (from datasets) (5.0.0)\n",
            "Requirement already satisfied: aiohttp in /usr/local/lib/python3.7/dist-packages (from datasets) (3.8.3)\n",
            "Requirement already satisfied: dill<0.3.6 in /usr/local/lib/python3.7/dist-packages (from datasets) (0.3.5.1)\n",
            "Requirement already satisfied: packaging in /usr/local/lib/python3.7/dist-packages (from datasets) (21.3)\n",
            "Collecting xxhash\n",
            "  Downloading xxhash-3.0.0-cp37-cp37m-manylinux_2_17_x86_64.manylinux2014_x86_64.whl (212 kB)\n",
            "\u001b[K     |████████████████████████████████| 212 kB 38.5 MB/s \n",
            "\u001b[?25hRequirement already satisfied: pyarrow>=6.0.0 in /usr/local/lib/python3.7/dist-packages (from datasets) (6.0.1)\n",
            "Collecting multiprocess\n",
            "  Downloading multiprocess-0.70.13-py37-none-any.whl (115 kB)\n",
            "\u001b[K     |████████████████████████████████| 115 kB 8.6 MB/s \n",
            "\u001b[?25hCollecting responses<0.19\n",
            "  Downloading responses-0.18.0-py3-none-any.whl (38 kB)\n",
            "Requirement already satisfied: pandas in /usr/local/lib/python3.7/dist-packages (from datasets) (1.3.5)\n",
            "Requirement already satisfied: attrs>=17.3.0 in /usr/local/lib/python3.7/dist-packages (from aiohttp->datasets) (22.1.0)\n",
            "Requirement already satisfied: multidict<7.0,>=4.5 in /usr/local/lib/python3.7/dist-packages (from aiohttp->datasets) (6.0.2)\n",
            "Requirement already satisfied: frozenlist>=1.1.1 in /usr/local/lib/python3.7/dist-packages (from aiohttp->datasets) (1.3.1)\n",
            "Requirement already satisfied: aiosignal>=1.1.2 in /usr/local/lib/python3.7/dist-packages (from aiohttp->datasets) (1.2.0)\n",
            "Requirement already satisfied: typing-extensions>=3.7.4 in /usr/local/lib/python3.7/dist-packages (from aiohttp->datasets) (4.1.1)\n",
            "Requirement already satisfied: charset-normalizer<3.0,>=2.0 in /usr/local/lib/python3.7/dist-packages (from aiohttp->datasets) (2.1.1)\n",
            "Requirement already satisfied: asynctest==0.13.0 in /usr/local/lib/python3.7/dist-packages (from aiohttp->datasets) (0.13.0)\n",
            "Requirement already satisfied: yarl<2.0,>=1.0 in /usr/local/lib/python3.7/dist-packages (from aiohttp->datasets) (1.8.1)\n",
            "Requirement already satisfied: async-timeout<5.0,>=4.0.0a3 in /usr/local/lib/python3.7/dist-packages (from aiohttp->datasets) (4.0.2)\n",
            "Requirement already satisfied: filelock in /usr/local/lib/python3.7/dist-packages (from huggingface-hub<1.0.0,>=0.2.0->datasets) (3.8.0)\n",
            "Requirement already satisfied: pyyaml>=5.1 in /usr/local/lib/python3.7/dist-packages (from huggingface-hub<1.0.0,>=0.2.0->datasets) (6.0)\n",
            "Requirement already satisfied: pyparsing!=3.0.5,>=2.0.2 in /usr/local/lib/python3.7/dist-packages (from packaging->datasets) (3.0.9)\n",
            "Requirement already satisfied: certifi>=2017.4.17 in /usr/local/lib/python3.7/dist-packages (from requests>=2.19.0->datasets) (2022.9.24)\n",
            "Requirement already satisfied: urllib3!=1.25.0,!=1.25.1,<1.26,>=1.21.1 in /usr/local/lib/python3.7/dist-packages (from requests>=2.19.0->datasets) (1.24.3)\n",
            "Requirement already satisfied: idna<3,>=2.5 in /usr/local/lib/python3.7/dist-packages (from requests>=2.19.0->datasets) (2.10)\n",
            "Requirement already satisfied: chardet<4,>=3.0.2 in /usr/local/lib/python3.7/dist-packages (from requests>=2.19.0->datasets) (3.0.4)\n",
            "Collecting urllib3!=1.25.0,!=1.25.1,<1.26,>=1.21.1\n",
            "  Downloading urllib3-1.25.11-py2.py3-none-any.whl (127 kB)\n",
            "\u001b[K     |████████████████████████████████| 127 kB 45.5 MB/s \n",
            "\u001b[?25hRequirement already satisfied: zipp>=0.5 in /usr/local/lib/python3.7/dist-packages (from importlib-metadata->datasets) (3.8.1)\n",
            "Requirement already satisfied: python-dateutil>=2.7.3 in /usr/local/lib/python3.7/dist-packages (from pandas->datasets) (2.8.2)\n",
            "Requirement already satisfied: pytz>=2017.3 in /usr/local/lib/python3.7/dist-packages (from pandas->datasets) (2022.4)\n",
            "Requirement already satisfied: six>=1.5 in /usr/local/lib/python3.7/dist-packages (from python-dateutil>=2.7.3->pandas->datasets) (1.15.0)\n",
            "Installing collected packages: urllib3, xxhash, responses, multiprocess, huggingface-hub, datasets\n",
            "  Attempting uninstall: urllib3\n",
            "    Found existing installation: urllib3 1.24.3\n",
            "    Uninstalling urllib3-1.24.3:\n",
            "      Successfully uninstalled urllib3-1.24.3\n",
            "Successfully installed datasets-2.5.2 huggingface-hub-0.10.0 multiprocess-0.70.13 responses-0.18.0 urllib3-1.25.11 xxhash-3.0.0\n"
          ]
        }
      ]
    },
    {
      "cell_type": "code",
      "execution_count": null,
      "metadata": {
        "id": "HIoRWyPhHb6R"
      },
      "outputs": [],
      "source": [
        "from datasets import load_dataset\n",
        "import numpy as np\n",
        "from keras.preprocessing.text import Tokenizer\n",
        "from keras.preprocessing.sequence import pad_sequences\n",
        "from sklearn.model_selection import train_test_split\n",
        "import tensorflow as tf\n",
        "from keras.layers import LSTM, GRU, SimpleRNN, Dense, Embedding\n",
        "from keras.models import Sequential\n",
        "from sklearn.metrics import confusion_matrix\n",
        "from sklearn.metrics import precision_score, recall_score"
      ]
    },
    {
      "cell_type": "code",
      "source": [],
      "metadata": {
        "id": "kZwHpYKSAJ1f"
      },
      "execution_count": null,
      "outputs": []
    },
    {
      "cell_type": "code",
      "source": [
        "dataset = load_dataset(\"SalehAhmad/Spam-Ham\")"
      ],
      "metadata": {
        "colab": {
          "base_uri": "https://localhost:8080/",
          "height": 219,
          "referenced_widgets": [
            "7297067d49ee4db0b4024fe7d42f406a",
            "529d43c9a6c6434e8f2c13df11887b18",
            "08ba29b84d0b4272be61e9f914e3c40c",
            "330029c0a3f647c1bab06027e880bd46",
            "c4fc05f032cc4d8caeaa26c606c890b0",
            "6509cfff79544a44b6afb527105280c3",
            "9d633d26f0804b8183a4a8307bb9da1c",
            "00fe33c5b604456da7605718745f3a91",
            "e5d9b00b312449acad7e9bcde722b148",
            "7ab98405e9bb4c8f873d42c8bad4c197",
            "111aa25ce38145809ddca322953f3e60",
            "fb5c9a3f107b4926a30f6d2d002179dd",
            "b0ec084ecaf34e93b826da155d8f2c0e",
            "bf3266685b04412a8f5237cf73daad78",
            "7e4500fbda154653a68d652abb91a96d",
            "0e3e3f2b733c4b0a8d976aee0c9fc70c",
            "9d280339f7d245acb0855511e96fc8e6",
            "fe25a43564ac4b77ac785928e7e7272e",
            "8a973c2d0b8b466ebac41d32693edacb",
            "c06b444285a14326ae7245442e3d0258",
            "e659d09f3a4748fb8b4d06050e0f10e0",
            "df55536077334507a554427a67a57c4b",
            "ca34755a194b4001bb5dc33838497870",
            "abd80b46483b47b3a01ea53e4a5fcb5b",
            "968ef94de6b746a18fd7657fb66d3008",
            "5d27bdd3e357434aa67c5905822f61b4",
            "58d08da6bfb9424d8d7449eea7c84d63",
            "576bacc56713477397e92fa5c529210a",
            "be108b2bc5344fc5af337af827b7237d",
            "bc82832dba224895886106839ec8650a",
            "de0a62f94e114c7e949f239bf2628d3d",
            "ed3179a972d2478188c394ef9da60e4e",
            "919d804d0bad4f6e9cc4e09578b2a0eb",
            "e180a078155d42b687629cf6bc59abca",
            "7d086a90c24c45ed87d0256a009e2665",
            "7569df861e0b4b31a3483052763a7035",
            "abc49bbb962a4b769753a952df0b7e30",
            "a785c515052b44a79f269d1b2b2903dc",
            "22d680245a5344548f02db4ae6367d05",
            "36aaed128a4a4bdab25574ff0f030e80",
            "eaacf26344ec44828ffd9ef7933e136d",
            "26cbc091d8ba42698a3ecba1082d6b83",
            "44145cc32fca44229a4f8833e8b83ecb",
            "0b197af93d234147a69218f4a298546f",
            "6243a6ced1b54c0ab8c34f7128609c43",
            "d10eb2861a9f46e99cb39d9f0ba86040",
            "119e28e10c1c4ecfa736e12c05b541be",
            "f64c1accb1f442c2a9d4fdd172171375",
            "99bc161b54e2409a80e8811af7227588",
            "16bf7c0a362d43a0a5c3fffb16795f7b",
            "333eb307e2614409b574ac71210169aa",
            "10f93fe8698f4a789165bf48f9dddf25",
            "f9edaa2fe3514d05bb9de06d3409ac94",
            "e40f342e3f904aad810b468fc787f23a",
            "4749bdd4713e44d4951a7f90b8e0dca3"
          ]
        },
        "id": "I75o_Wh3HdIp",
        "outputId": "7499ff85-d5b7-469f-f20a-ba524a445ed3"
      },
      "execution_count": null,
      "outputs": [
        {
          "output_type": "stream",
          "name": "stderr",
          "text": [
            "WARNING:datasets.builder:Using custom data configuration SalehAhmad--Spam-Ham-3b83475258cf549a\n"
          ]
        },
        {
          "output_type": "stream",
          "name": "stdout",
          "text": [
            "Downloading and preparing dataset csv/SalehAhmad--Spam-Ham to /root/.cache/huggingface/datasets/SalehAhmad___csv/SalehAhmad--Spam-Ham-3b83475258cf549a/0.0.0/652c3096f041ee27b04d2232d41f10547a8fecda3e284a79a0ec4053c916ef7a...\n"
          ]
        },
        {
          "output_type": "display_data",
          "data": {
            "text/plain": [
              "Downloading data files:   0%|          | 0/1 [00:00<?, ?it/s]"
            ],
            "application/vnd.jupyter.widget-view+json": {
              "version_major": 2,
              "version_minor": 0,
              "model_id": "7297067d49ee4db0b4024fe7d42f406a"
            }
          },
          "metadata": {}
        },
        {
          "output_type": "display_data",
          "data": {
            "text/plain": [
              "Downloading data:   0%|          | 0.00/477k [00:00<?, ?B/s]"
            ],
            "application/vnd.jupyter.widget-view+json": {
              "version_major": 2,
              "version_minor": 0,
              "model_id": "fb5c9a3f107b4926a30f6d2d002179dd"
            }
          },
          "metadata": {}
        },
        {
          "output_type": "display_data",
          "data": {
            "text/plain": [
              "Extracting data files:   0%|          | 0/1 [00:00<?, ?it/s]"
            ],
            "application/vnd.jupyter.widget-view+json": {
              "version_major": 2,
              "version_minor": 0,
              "model_id": "ca34755a194b4001bb5dc33838497870"
            }
          },
          "metadata": {}
        },
        {
          "output_type": "display_data",
          "data": {
            "text/plain": [
              "0 tables [00:00, ? tables/s]"
            ],
            "application/vnd.jupyter.widget-view+json": {
              "version_major": 2,
              "version_minor": 0,
              "model_id": "e180a078155d42b687629cf6bc59abca"
            }
          },
          "metadata": {}
        },
        {
          "output_type": "stream",
          "name": "stdout",
          "text": [
            "Dataset csv downloaded and prepared to /root/.cache/huggingface/datasets/SalehAhmad___csv/SalehAhmad--Spam-Ham-3b83475258cf549a/0.0.0/652c3096f041ee27b04d2232d41f10547a8fecda3e284a79a0ec4053c916ef7a. Subsequent calls will reuse this data.\n"
          ]
        },
        {
          "output_type": "display_data",
          "data": {
            "text/plain": [
              "  0%|          | 0/1 [00:00<?, ?it/s]"
            ],
            "application/vnd.jupyter.widget-view+json": {
              "version_major": 2,
              "version_minor": 0,
              "model_id": "6243a6ced1b54c0ab8c34f7128609c43"
            }
          },
          "metadata": {}
        }
      ]
    },
    {
      "cell_type": "code",
      "source": [
        "X = dataset['train']['sms_text']\n",
        "Y = dataset['train']['label']"
      ],
      "metadata": {
        "id": "lF_aavEZHinr"
      },
      "execution_count": null,
      "outputs": []
    },
    {
      "cell_type": "code",
      "source": [
        "texts = []\n",
        "labels = []\n",
        "for i, label in enumerate(dataset['train']['label']):\n",
        "    texts.append(dataset['train']['sms_text'][i])\n",
        "    if label == 'ham':\n",
        "        labels.append(0)\n",
        "    else:\n",
        "        labels.append(1)\n",
        "\n",
        "texts = np.asarray(texts)\n",
        "labels = np.asarray(labels)\n",
        "\n",
        "\n",
        "print(\"number of texts :\" , len(texts))\n",
        "print(\"number of labels: \", len(labels))"
      ],
      "metadata": {
        "colab": {
          "base_uri": "https://localhost:8080/"
        },
        "id": "G7fCQPf4D4g9",
        "outputId": "c8fc0a1a-57d3-49af-b91d-e87453c62cf5"
      },
      "execution_count": null,
      "outputs": [
        {
          "output_type": "stream",
          "name": "stdout",
          "text": [
            "number of texts : 5566\n",
            "number of labels:  5566\n"
          ]
        }
      ]
    },
    {
      "cell_type": "code",
      "source": [
        "X_train, X_test, y_train, y_test = train_test_split(texts, labels, test_size=0.3, random_state=1)"
      ],
      "metadata": {
        "id": "-mG3b7qGMF8e"
      },
      "execution_count": null,
      "outputs": []
    },
    {
      "cell_type": "code",
      "source": [
        "# number of words used as features\n",
        "max_features = 10000\n",
        "# cut off the words after seeing 500 words in each document(email)\n",
        "maxlen = 500\n",
        "tokenizer = Tokenizer()\n",
        "tokenizer.fit_on_texts(X_train)\n",
        "sequences_train = tokenizer.texts_to_sequences(X_train)\n",
        "word_index = tokenizer.word_index\n",
        "print(\"Found {0} unique words: \".format(len(word_index)))\n",
        "data_train = pad_sequences(sequences_train, maxlen=maxlen)\n",
        "print(data_train.shape)"
      ],
      "metadata": {
        "colab": {
          "base_uri": "https://localhost:8080/"
        },
        "id": "LX0MJMkdMg3E",
        "outputId": "bc1152c1-ef52-4914-cc58-25f36ccf848f"
      },
      "execution_count": null,
      "outputs": [
        {
          "output_type": "stream",
          "name": "stdout",
          "text": [
            "Found 7369 unique words: \n",
            "(3896, 500)\n"
          ]
        }
      ]
    },
    {
      "cell_type": "code",
      "source": [
        "#SimpleRNN\n",
        "\n",
        "model = Sequential()\n",
        "model.add(Embedding(max_features, 64))\n",
        "model.add(SimpleRNN(64))\n",
        "model.add(Dense(1, activation='sigmoid'))\n",
        "model.summary()\n",
        "\n",
        "model.compile(optimizer='rmsprop', loss='binary_crossentropy', metrics=['acc'])\n",
        "history_rnn = model.fit(data_train, y_train, epochs=20, batch_size=60)"
      ],
      "metadata": {
        "colab": {
          "base_uri": "https://localhost:8080/"
        },
        "id": "Np2Rc5g8EXBS",
        "outputId": "5a84be58-0d10-4503-8474-b4126172ecea"
      },
      "execution_count": null,
      "outputs": [
        {
          "output_type": "stream",
          "name": "stdout",
          "text": [
            "Model: \"sequential_2\"\n",
            "_________________________________________________________________\n",
            " Layer (type)                Output Shape              Param #   \n",
            "=================================================================\n",
            " embedding_2 (Embedding)     (None, None, 64)          640000    \n",
            "                                                                 \n",
            " simple_rnn_2 (SimpleRNN)    (None, 64)                8256      \n",
            "                                                                 \n",
            " dense_2 (Dense)             (None, 1)                 65        \n",
            "                                                                 \n",
            "=================================================================\n",
            "Total params: 648,321\n",
            "Trainable params: 648,321\n",
            "Non-trainable params: 0\n",
            "_________________________________________________________________\n",
            "Epoch 1/20\n",
            "65/65 [==============================] - 11s 156ms/step - loss: 0.4183 - acc: 0.8024\n",
            "Epoch 2/20\n",
            "65/65 [==============================] - 10s 155ms/step - loss: 0.1319 - acc: 0.9605\n",
            "Epoch 3/20\n",
            "65/65 [==============================] - 10s 158ms/step - loss: 0.1506 - acc: 0.9363\n",
            "Epoch 4/20\n",
            "65/65 [==============================] - 10s 160ms/step - loss: 0.0388 - acc: 0.9872\n",
            "Epoch 5/20\n",
            "65/65 [==============================] - 10s 156ms/step - loss: 0.0252 - acc: 0.9926\n",
            "Epoch 6/20\n",
            "65/65 [==============================] - 10s 156ms/step - loss: 0.0217 - acc: 0.9928\n",
            "Epoch 7/20\n",
            "65/65 [==============================] - 10s 158ms/step - loss: 0.0083 - acc: 0.9974\n",
            "Epoch 8/20\n",
            "65/65 [==============================] - 10s 158ms/step - loss: 0.0062 - acc: 0.9985\n",
            "Epoch 9/20\n",
            "65/65 [==============================] - 10s 157ms/step - loss: 0.0023 - acc: 0.9995\n",
            "Epoch 10/20\n",
            "65/65 [==============================] - 10s 156ms/step - loss: 0.0013 - acc: 0.9995\n",
            "Epoch 11/20\n",
            "65/65 [==============================] - 10s 156ms/step - loss: 0.0120 - acc: 0.9959\n",
            "Epoch 12/20\n",
            "65/65 [==============================] - 10s 157ms/step - loss: 0.0024 - acc: 0.9987\n",
            "Epoch 13/20\n",
            "65/65 [==============================] - 10s 157ms/step - loss: 4.2111e-04 - acc: 1.0000\n",
            "Epoch 14/20\n",
            "65/65 [==============================] - 10s 159ms/step - loss: 4.5892e-04 - acc: 0.9997\n",
            "Epoch 15/20\n",
            "65/65 [==============================] - 10s 156ms/step - loss: 1.5165e-04 - acc: 1.0000\n",
            "Epoch 16/20\n",
            "65/65 [==============================] - 10s 156ms/step - loss: 2.4352e-04 - acc: 0.9997\n",
            "Epoch 17/20\n",
            "65/65 [==============================] - 10s 155ms/step - loss: 6.1612e-05 - acc: 1.0000\n",
            "Epoch 18/20\n",
            "65/65 [==============================] - 10s 158ms/step - loss: 1.2738e-04 - acc: 1.0000\n",
            "Epoch 19/20\n",
            "65/65 [==============================] - 10s 159ms/step - loss: 1.6698e-04 - acc: 1.0000\n",
            "Epoch 20/20\n",
            "65/65 [==============================] - 10s 156ms/step - loss: 3.6953e-04 - acc: 0.9997\n"
          ]
        }
      ]
    },
    {
      "cell_type": "code",
      "source": [
        "from sklearn.metrics import confusion_matrix"
      ],
      "metadata": {
        "id": "42ANoNGCf0iF"
      },
      "execution_count": null,
      "outputs": []
    },
    {
      "cell_type": "code",
      "source": [
        "# number of words used as features\n",
        "max_features = 10000\n",
        "# cut off the words after seeing 500 words in each document(email)\n",
        "maxlen = 500\n",
        "tokenizer = Tokenizer()\n",
        "tokenizer.fit_on_texts(X_test)\n",
        "sequences_test = tokenizer.texts_to_sequences(X_test)\n",
        "word_index = tokenizer.word_index\n",
        "print(\"Found {0} unique words: \".format(len(word_index)))\n",
        "data_test = pad_sequences(sequences_test, maxlen=maxlen)\n",
        "print(data_test.shape)"
      ],
      "metadata": {
        "colab": {
          "base_uri": "https://localhost:8080/"
        },
        "id": "dwHJ-RX0fnbQ",
        "outputId": "1da13f5c-d378-40f4-822b-1219b8ca54b0"
      },
      "execution_count": null,
      "outputs": [
        {
          "output_type": "stream",
          "name": "stdout",
          "text": [
            "Found 4655 unique words: \n",
            "(1670, 500)\n"
          ]
        }
      ]
    },
    {
      "cell_type": "code",
      "source": [
        "pred = model.predict(data_test)\n",
        "pred_label =[]\n",
        "for i in pred:\n",
        "  if i >0.5:\n",
        "    pred_label.append(1)\n",
        "  else:\n",
        "    pred_label.append(0)\n",
        "print(confusion_matrix(pred_label, y_test))\n",
        "print('Precision for SimpleRNN: %.4f'% precision_score(y_test, pred_label,average='macro'))\n",
        "print('Recall for SimpleRNN: %.4f' % recall_score(y_test, pred_label, average='macro'))"
      ],
      "metadata": {
        "colab": {
          "base_uri": "https://localhost:8080/"
        },
        "id": "QnLJS153Fmmp",
        "outputId": "3d20f6ae-1583-4d22-e8e9-b481dd392489"
      },
      "execution_count": null,
      "outputs": [
        {
          "output_type": "stream",
          "name": "stdout",
          "text": [
            "[[1352  183]\n",
            " [ 101   34]]\n",
            "Precision for SimpleRNN: 0.5663\n",
            "Recall for SimpleRNN: 0.5436\n"
          ]
        }
      ]
    },
    {
      "cell_type": "code",
      "source": [
        "# LSTM\n",
        "\n",
        "modelLSTM = Sequential()\n",
        "modelLSTM.add(Embedding(max_features, 64))\n",
        "modelLSTM.add(LSTM(64))\n",
        "modelLSTM.add(Dense(1, activation='sigmoid'))\n",
        "modelLSTM.summary()\n",
        "modelLSTM.compile(optimizer='rmsprop', loss='binary_crossentropy', metrics=['acc'])\n",
        "history_ltsm = modelLSTM.fit(data_train, y_train, epochs=10, batch_size=60)"
      ],
      "metadata": {
        "colab": {
          "base_uri": "https://localhost:8080/"
        },
        "id": "bo7GogUKGu02",
        "outputId": "b2032546-5d63-4331-be4f-1856b5084331"
      },
      "execution_count": null,
      "outputs": [
        {
          "output_type": "stream",
          "name": "stdout",
          "text": [
            "Model: \"sequential_3\"\n",
            "_________________________________________________________________\n",
            " Layer (type)                Output Shape              Param #   \n",
            "=================================================================\n",
            " embedding_3 (Embedding)     (None, None, 64)          640000    \n",
            "                                                                 \n",
            " lstm (LSTM)                 (None, 64)                33024     \n",
            "                                                                 \n",
            " dense_3 (Dense)             (None, 1)                 65        \n",
            "                                                                 \n",
            "=================================================================\n",
            "Total params: 673,089\n",
            "Trainable params: 673,089\n",
            "Non-trainable params: 0\n",
            "_________________________________________________________________\n",
            "Epoch 1/10\n",
            "65/65 [==============================] - 27s 381ms/step - loss: 0.2164 - acc: 0.9274\n",
            "Epoch 2/10\n",
            "65/65 [==============================] - 25s 381ms/step - loss: 0.0554 - acc: 0.9861\n",
            "Epoch 3/10\n",
            "65/65 [==============================] - 25s 382ms/step - loss: 0.0309 - acc: 0.9923\n",
            "Epoch 4/10\n",
            "65/65 [==============================] - 25s 382ms/step - loss: 0.0263 - acc: 0.9918\n",
            "Epoch 5/10\n",
            "65/65 [==============================] - 25s 381ms/step - loss: 0.0122 - acc: 0.9959\n",
            "Epoch 6/10\n",
            "65/65 [==============================] - 25s 381ms/step - loss: 0.0317 - acc: 0.9884\n",
            "Epoch 7/10\n",
            "65/65 [==============================] - 25s 381ms/step - loss: 0.0229 - acc: 0.9897\n",
            "Epoch 8/10\n",
            "65/65 [==============================] - 25s 380ms/step - loss: 0.0255 - acc: 0.9913\n",
            "Epoch 9/10\n",
            "65/65 [==============================] - 25s 382ms/step - loss: 0.0064 - acc: 0.9982\n",
            "Epoch 10/10\n",
            "65/65 [==============================] - 25s 381ms/step - loss: 0.0029 - acc: 0.9990\n"
          ]
        }
      ]
    },
    {
      "cell_type": "code",
      "source": [
        "predLSTM = modelLSTM.predict(data_test)\n",
        "predLSTM_label =[]\n",
        "for i in predLSTM:\n",
        "  if i >0.5:\n",
        "    predLSTM_label.append(1)\n",
        "  else:\n",
        "    predLSTM_label.append(0)\n",
        "print(confusion_matrix(predLSTM_label, y_test))\n",
        "print('Precision for LSTM: %.4f'% precision_score(y_test, predLSTM_label,average='macro'))\n",
        "print('Recall for LSTM: %.4f' % recall_score(y_test, predLSTM_label, average='macro'))"
      ],
      "metadata": {
        "colab": {
          "base_uri": "https://localhost:8080/"
        },
        "id": "kclGz7LqVKiD",
        "outputId": "80d86dee-af5b-4a75-c405-e03ce6f60e5e"
      },
      "execution_count": null,
      "outputs": [
        {
          "output_type": "stream",
          "name": "stdout",
          "text": [
            "[[1372  196]\n",
            " [  81   21]]\n",
            "Precision for LSTM: 0.5404\n",
            "Recall for LSTM: 0.5205\n"
          ]
        }
      ]
    },
    {
      "cell_type": "code",
      "source": [
        "#GRU\n",
        "\n",
        "modelGRU = Sequential()\n",
        "modelGRU.add(Embedding(max_features, 64))\n",
        "modelGRU.add(GRU(64))\n",
        "modelGRU.add(Dense(1, activation='sigmoid'))\n",
        "modelGRU.summary()\n",
        "modelGRU.compile(optimizer='rmsprop', loss='binary_crossentropy', metrics=['acc'])\n",
        "history_gru = modelGRU.fit(data_train, y_train, epochs=10, batch_size=60)"
      ],
      "metadata": {
        "colab": {
          "base_uri": "https://localhost:8080/"
        },
        "id": "ZNctGi6rHoBi",
        "outputId": "8db38934-0753-454f-f6f0-da811219d209"
      },
      "execution_count": null,
      "outputs": [
        {
          "output_type": "stream",
          "name": "stdout",
          "text": [
            "Model: \"sequential_4\"\n",
            "_________________________________________________________________\n",
            " Layer (type)                Output Shape              Param #   \n",
            "=================================================================\n",
            " embedding_4 (Embedding)     (None, None, 64)          640000    \n",
            "                                                                 \n",
            " gru (GRU)                   (None, 64)                24960     \n",
            "                                                                 \n",
            " dense_4 (Dense)             (None, 1)                 65        \n",
            "                                                                 \n",
            "=================================================================\n",
            "Total params: 665,025\n",
            "Trainable params: 665,025\n",
            "Non-trainable params: 0\n",
            "_________________________________________________________________\n",
            "Epoch 1/10\n",
            "65/65 [==============================] - 24s 342ms/step - loss: 0.2230 - acc: 0.9191\n",
            "Epoch 2/10\n",
            "65/65 [==============================] - 22s 343ms/step - loss: 0.0454 - acc: 0.9877\n",
            "Epoch 3/10\n",
            "65/65 [==============================] - 22s 343ms/step - loss: 0.0242 - acc: 0.9931\n",
            "Epoch 4/10\n",
            "65/65 [==============================] - 22s 343ms/step - loss: 0.0149 - acc: 0.9964\n",
            "Epoch 5/10\n",
            "65/65 [==============================] - 22s 341ms/step - loss: 0.0085 - acc: 0.9979\n",
            "Epoch 6/10\n",
            "65/65 [==============================] - 22s 340ms/step - loss: 0.0034 - acc: 0.9990\n",
            "Epoch 7/10\n",
            "65/65 [==============================] - 22s 343ms/step - loss: 0.0025 - acc: 0.9987\n",
            "Epoch 8/10\n",
            "65/65 [==============================] - 22s 340ms/step - loss: 0.0017 - acc: 0.9995\n",
            "Epoch 9/10\n",
            "65/65 [==============================] - 22s 340ms/step - loss: 9.0101e-04 - acc: 0.9995\n",
            "Epoch 10/10\n",
            "65/65 [==============================] - 22s 341ms/step - loss: 5.6506e-04 - acc: 1.0000\n"
          ]
        }
      ]
    },
    {
      "cell_type": "code",
      "source": [
        "predGRU = modelGRU.predict(data_test)\n",
        "predGRU_label =[]\n",
        "for i in predGRU:\n",
        "  if i >0.5:\n",
        "    predGRU_label.append(1)\n",
        "  else:\n",
        "    predGRU_label.append(0)\n",
        "\n",
        "print(confusion_matrix(predGRU_label, y_test))\n",
        "print('Precision for LSTM: %.4f'% precision_score(y_test, predGRU_label,average='macro'))\n",
        "print('Recall for LSTM: %.4f' % recall_score(y_test, predGRU_label, average='macro'))"
      ],
      "metadata": {
        "colab": {
          "base_uri": "https://localhost:8080/"
        },
        "id": "dkrtU-ynHzku",
        "outputId": "379a731d-f0f0-435d-a526-c3188762883e"
      },
      "execution_count": null,
      "outputs": [
        {
          "output_type": "stream",
          "name": "stdout",
          "text": [
            "[[1307  182]\n",
            " [ 146   35]]\n",
            "Precision for LSTM: 0.5356\n",
            "Recall for LSTM: 0.5304\n"
          ]
        }
      ]
    },
    {
      "cell_type": "code",
      "source": [
        "wordsCount=[]\n",
        "for i in X_test:\n",
        "  noOfWords = len(i.split())\n",
        "  wordsCount.append(noOfWords)\n",
        "\n",
        "print(len(wordsCount))\n",
        "wordsCount.sort()\n",
        "wordsCount[1669]"
      ],
      "metadata": {
        "colab": {
          "base_uri": "https://localhost:8080/"
        },
        "id": "F5LcbmtcJsD5",
        "outputId": "f49886e3-8821-408c-ad36-4f1b55036652"
      },
      "execution_count": null,
      "outputs": [
        {
          "output_type": "stream",
          "name": "stdout",
          "text": [
            "1670\n"
          ]
        },
        {
          "output_type": "execute_result",
          "data": {
            "text/plain": [
              "96"
            ]
          },
          "metadata": {},
          "execution_count": 21
        }
      ]
    },
    {
      "cell_type": "code",
      "source": [
        "small_input = []\n",
        "medium_input =[]\n",
        "large_input=[]\n",
        "\n",
        "small_input_label = []\n",
        "medium_input_label =[]\n",
        "large_input_label=[]\n",
        "\n",
        "for i,c in enumerate(X_test):\n",
        "  noOfWords = len(c.split())\n",
        "  if noOfWords <= 32:\n",
        "    small_input.append(c)\n",
        "    small_input_label.append(y_test[i])\n",
        "  elif noOfWords >32 and noOfWords <=64:\n",
        "    medium_input.append(c)\n",
        "    medium_input_label.append(y_test[i])\n",
        "  elif noOfWords > 64:\n",
        "    large_input.append(c)\n",
        "    large_input_label.append(y_test[i])\n",
        "\n",
        "print(len(small_input))\n",
        "print(len(small_input_label))\n",
        "print(\"----------------\")\n",
        "print(len(medium_input))\n",
        "print(len(medium_input_label))\n",
        "print(\"----------------\")\n",
        "print(len(large_input))\n",
        "print(len(large_input_label))\n"
      ],
      "metadata": {
        "colab": {
          "base_uri": "https://localhost:8080/"
        },
        "id": "RSKkByCqU0bL",
        "outputId": "ed48762a-c341-4b0e-8763-9f2ae6b6a747"
      },
      "execution_count": null,
      "outputs": [
        {
          "output_type": "stream",
          "name": "stdout",
          "text": [
            "1586\n",
            "1586\n",
            "----------------\n",
            "77\n",
            "77\n",
            "----------------\n",
            "7\n",
            "7\n"
          ]
        }
      ]
    },
    {
      "cell_type": "code",
      "source": [
        "small_input_label = np.array(small_input_label)\n",
        "medium_input_label = np.array(medium_input_label)\n",
        "large_input_label = np.array(large_input_label)\n"
      ],
      "metadata": {
        "id": "Rbo632X6W6Yq"
      },
      "execution_count": null,
      "outputs": []
    },
    {
      "cell_type": "code",
      "source": [
        "#Short input \n",
        "\n",
        "tokenizer = Tokenizer()\n",
        "tokenizer.fit_on_texts(small_input)\n",
        "sequences_short = tokenizer.texts_to_sequences(small_input)\n",
        "data_short = pad_sequences(sequences_short, maxlen=maxlen)\n",
        "\n",
        "\n",
        "pred_short = model.predict(data_short)\n",
        "pred_short_label =[]\n",
        "for i in pred_short:\n",
        "  if i >0.5:\n",
        "    pred_short_label.append(1)\n",
        "  else:\n",
        "    pred_short_label.append(0)\n",
        "\n",
        "print(confusion_matrix(pred_short_label, small_input_label))\n",
        "print('Precision for SimpleRNN: %.4f'% precision_score(small_input_label, pred_short_label,average='macro'))\n",
        "print('Recall for SimpleRNN: %.4f' % recall_score(small_input_label, pred_short_label, average='macro'))\n",
        "\n",
        "pred_shortLSTM = modelLSTM.predict(data_short)\n",
        "pred_shortLSTM_label =[]\n",
        "for i in pred_shortLSTM:\n",
        "  if i >0.5:\n",
        "    pred_shortLSTM_label.append(1)\n",
        "  else:\n",
        "    pred_shortLSTM_label.append(0)\n",
        "\n",
        "print(confusion_matrix(pred_shortLSTM_label, small_input_label))\n",
        "print('Precision for LSTM: %.4f'% precision_score(small_input_label, pred_shortLSTM_label,average='macro'))\n",
        "print('Recall for LSTM: %.4f' % recall_score(small_input_label, pred_shortLSTM_label, average='macro'))\n",
        "\n",
        "pred_shortGRU = modelGRU.predict(data_short)\n",
        "pred_shortGRU_label =[]\n",
        "for i in pred_shortGRU:\n",
        "  if i >0.5:\n",
        "    pred_shortGRU_label.append(1)\n",
        "  else:\n",
        "    pred_shortGRU_label.append(0)\n",
        "\n",
        "print(confusion_matrix(pred_shortGRU_label, small_input_label))\n",
        "print('Precision for GRU: %.4f'% precision_score(small_input_label, pred_shortGRU_label,average='macro'))\n",
        "print('Recall for GRU: %.4f' % recall_score(small_input_label, pred_shortGRU_label, average='macro'))"
      ],
      "metadata": {
        "colab": {
          "base_uri": "https://localhost:8080/"
        },
        "id": "Z26ROD_AWONC",
        "outputId": "a8f2952a-a075-4aec-f7ac-3ecc6eb67afb"
      },
      "execution_count": null,
      "outputs": [
        {
          "output_type": "stream",
          "name": "stdout",
          "text": [
            "[[1287  186]\n",
            " [  87   26]]\n",
            "Precision for SimpleRNN: 0.5519\n",
            "Recall for SimpleRNN: 0.5297\n",
            "[[1294  198]\n",
            " [  80   14]]\n",
            "Precision for LSTM: 0.5081\n",
            "Recall for LSTM: 0.5039\n",
            "[[1236  169]\n",
            " [ 138   43]]\n",
            "Precision for GRU: 0.5586\n",
            "Recall for GRU: 0.5512\n"
          ]
        }
      ]
    },
    {
      "cell_type": "code",
      "source": [
        "#Medium input \n",
        "\n",
        "tokenizer = Tokenizer()\n",
        "tokenizer.fit_on_texts(medium_input)\n",
        "sequences_medium = tokenizer.texts_to_sequences(medium_input)\n",
        "data_medium = pad_sequences(sequences_medium, maxlen=maxlen)\n",
        "\n",
        "\n",
        "pred_medium = model.predict(data_medium)\n",
        "pred_medium_label =[]\n",
        "for i in pred_medium:\n",
        "  if i >0.5:\n",
        "    pred_medium_label.append(1)\n",
        "  else:\n",
        "    pred_medium_label.append(0)\n",
        "\n",
        "print(confusion_matrix(pred_medium_label, medium_input_label))\n",
        "print('Precision for SimpleRNN: %.4f'% precision_score(medium_input_label, pred_medium_label,average='macro'))\n",
        "print('Recall for SimpleRNN: %.4f' % recall_score(medium_input_label, pred_medium_label, average='macro'))\n",
        "\n",
        "pred_mediumLSTM = modelLSTM.predict(data_medium)\n",
        "pred_mediumLSTM_label =[]\n",
        "for i in pred_mediumLSTM:\n",
        "  if i >0.5:\n",
        "    pred_mediumLSTM_label.append(1)\n",
        "  else:\n",
        "    pred_mediumLSTM_label.append(0)\n",
        "\n",
        "print(confusion_matrix(pred_mediumLSTM_label, medium_input_label))\n",
        "print('Precision for LSTM: %.4f'% precision_score(medium_input_label, pred_mediumLSTM_label,average='macro'))\n",
        "print('Recall for LSTM: %.4f' % recall_score(medium_input_label, pred_mediumLSTM_label, average='macro'))\n",
        "\n",
        "pred_mediumGRU = modelGRU.predict(data_medium)\n",
        "pred_mediumGRU_label =[]\n",
        "for i in pred_mediumGRU:\n",
        "  if i >0.5:\n",
        "    pred_mediumGRU_label.append(1)\n",
        "  else:\n",
        "    pred_mediumGRU_label.append(0)\n",
        "\n",
        "print(confusion_matrix(pred_mediumGRU_label, medium_input_label))\n",
        "print('Precision for GRU: %.4f'% precision_score(medium_input_label, pred_mediumGRU_label,average='macro'))\n",
        "print('Recall for GRU: %.4f' % recall_score(medium_input_label, pred_mediumGRU_label, average='macro'))"
      ],
      "metadata": {
        "colab": {
          "base_uri": "https://localhost:8080/"
        },
        "id": "SiORFekYXqEp",
        "outputId": "fd6d26b7-fd35-4724-bb8e-bb8fc0c5f0a7"
      },
      "execution_count": null,
      "outputs": [
        {
          "output_type": "stream",
          "name": "stdout",
          "text": [
            "[[67  4]\n",
            " [ 5  1]]\n",
            "Precision for SimpleRNN: 0.5552\n",
            "Recall for SimpleRNN: 0.5653\n",
            "[[70  5]\n",
            " [ 2  0]]\n",
            "Precision for LSTM: 0.4667\n",
            "Recall for LSTM: 0.4861\n",
            "[[61  5]\n",
            " [11  0]]\n",
            "Precision for GRU: 0.4621\n",
            "Recall for GRU: 0.4236\n"
          ]
        }
      ]
    },
    {
      "cell_type": "code",
      "source": [
        "#Lerge input \n",
        "\n",
        "tokenizer = Tokenizer()\n",
        "tokenizer.fit_on_texts(large_input)\n",
        "sequences_large = tokenizer.texts_to_sequences(large_input)\n",
        "data_large = pad_sequences(sequences_large, maxlen=maxlen)\n",
        "\n",
        "\n",
        "pred_large = model.predict(data_large)\n",
        "pred_large_label =[]\n",
        "for i in pred_large:\n",
        "  if i >0.5:\n",
        "    pred_large_label.append(1)\n",
        "  else:\n",
        "    pred_large_label.append(0)\n",
        "\n",
        "print(confusion_matrix(pred_large_label, large_input_label))\n",
        "print('Precision for SimpleRNN: %.4f'% precision_score(large_input_label, pred_large_label,average='macro'))\n",
        "print('Recall for SimpleRNN: %.4f' % recall_score(large_input_label, pred_large_label, average='macro'))\n",
        "\n",
        "pred_largeLSTM = modelLSTM.predict(data_large)\n",
        "pred_largeLSTM_label =[]\n",
        "for i in pred_largeLSTM:\n",
        "  if i >0.5:\n",
        "    pred_largeLSTM_label.append(1)\n",
        "  else:\n",
        "    pred_largeLSTM_label.append(0)\n",
        "\n",
        "print(confusion_matrix(pred_largeLSTM_label, large_input_label))\n",
        "print('Precision for LSTM: %.4f'% precision_score(large_input_label, pred_largeLSTM_label,average='macro'))\n",
        "print('Recall for LSTM: %.4f' % recall_score(large_input_label, pred_largeLSTM_label, average='macro'))\n",
        "\n",
        "pred_largeGRU = modelGRU.predict(data_large)\n",
        "pred_largeGRU_label =[]\n",
        "for i in pred_largeGRU:\n",
        "  if i >0.5:\n",
        "    pred_largeGRU_label.append(1)\n",
        "  else:\n",
        "    pred_largeGRU_label.append(0)\n",
        "\n",
        "print(confusion_matrix(pred_largeGRU_label, large_input_label))\n",
        "print('Precision for GRU: %.4f'% precision_score(large_input_label, pred_largeGRU_label,average='macro'))\n",
        "print('Recall for GRU: %.4f' % recall_score(large_input_label, pred_largeGRU_label, average='macro'))"
      ],
      "metadata": {
        "colab": {
          "base_uri": "https://localhost:8080/"
        },
        "id": "Vd7IVv2kYTat",
        "outputId": "240e707d-cfa7-48b5-f10b-22420d0bf04f"
      },
      "execution_count": null,
      "outputs": [
        {
          "output_type": "stream",
          "name": "stdout",
          "text": [
            "[[5 0]\n",
            " [2 0]]\n",
            "Precision for SimpleRNN: 0.5000\n",
            "Recall for SimpleRNN: 0.3571\n",
            "[[6 0]\n",
            " [1 0]]\n",
            "Precision for LSTM: 0.5000\n",
            "Recall for LSTM: 0.4286\n",
            "[[5 0]\n",
            " [2 0]]\n",
            "Precision for GRU: 0.5000\n",
            "Recall for GRU: 0.3571\n"
          ]
        },
        {
          "output_type": "stream",
          "name": "stderr",
          "text": [
            "/usr/local/lib/python3.7/dist-packages/sklearn/metrics/_classification.py:1318: UndefinedMetricWarning: Recall is ill-defined and being set to 0.0 in labels with no true samples. Use `zero_division` parameter to control this behavior.\n",
            "  _warn_prf(average, modifier, msg_start, len(result))\n",
            "/usr/local/lib/python3.7/dist-packages/sklearn/metrics/_classification.py:1318: UndefinedMetricWarning: Recall is ill-defined and being set to 0.0 in labels with no true samples. Use `zero_division` parameter to control this behavior.\n",
            "  _warn_prf(average, modifier, msg_start, len(result))\n",
            "/usr/local/lib/python3.7/dist-packages/sklearn/metrics/_classification.py:1318: UndefinedMetricWarning: Recall is ill-defined and being set to 0.0 in labels with no true samples. Use `zero_division` parameter to control this behavior.\n",
            "  _warn_prf(average, modifier, msg_start, len(result))\n"
          ]
        }
      ]
    }
  ]
}